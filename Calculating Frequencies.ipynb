{
 "cells": [
  {
   "cell_type": "markdown",
   "id": "4217fecb",
   "metadata": {},
   "source": [
    "# Calculating the Dynamical Matrix using PDielec\n",
    "\n",
    "First of all we move the examples directory of the PDielec distribution.  Directory used here should be replaced by the root directory of an installation of PDielec on your system."
   ]
  },
  {
   "cell_type": "code",
   "execution_count": 61,
   "id": "f86d6dbe",
   "metadata": {},
   "outputs": [
    {
     "name": "stdout",
     "output_type": "stream",
     "text": [
      "/home/john/Software/PDielec\n"
     ]
    }
   ],
   "source": [
    "%cd /home/john/Software/PDielec"
   ]
  },
  {
   "cell_type": "markdown",
   "id": "75a0600d",
   "metadata": {},
   "source": [
    "First of all create the reader for the outputfile that will be processed."
   ]
  },
  {
   "cell_type": "code",
   "execution_count": 62,
   "id": "0723cb5b",
   "metadata": {},
   "outputs": [],
   "source": [
    "from PDielec.Utilities import find_program_from_name\n",
    "from PDielec.Utilities import get_reader\n",
    "file = 'Examples/Castep/Na2SO42/phonon.castep'\n",
    "program = find_program_from_name(file)\n",
    "reader = get_reader(file,program,'')\n",
    "reader.read_output()"
   ]
  },
  {
   "cell_type": "markdown",
   "id": "ceb451e2",
   "metadata": {},
   "source": [
    "The reader contains information about the unit cell and all the details of the output found in the file.  To obtain the unit cell information for the last unit cell reported in the output file do the following."
   ]
  },
  {
   "cell_type": "code",
   "execution_count": 63,
   "id": "56e39984",
   "metadata": {},
   "outputs": [
    {
     "name": "stdout",
     "output_type": "stream",
     "text": [
      " \n",
      "Unit Cell a,b,c \n",
      "     4.780000     5.575000     6.091000\n",
      " \n",
      "Unit Cell alpha,beta,gamma\n",
      "   101.871000   103.337000    97.418000\n",
      " \n",
      "lattice\n",
      "     4.780000     0.000000     0.000000\n",
      "    -0.719772     5.528341     0.000000\n",
      "    -1.405061    -1.446482     5.747502\n",
      " \n",
      "Element names\n",
      " O         O         O         O         O         O         O         O        \n",
      " Na        Na        S         S        \n",
      " \n",
      "Fractional coords\n",
      "     0.553874     0.019031     0.440862\n",
      "     0.446126     0.980969     0.559138\n",
      "     0.758890     0.907386     0.139814\n",
      "     0.241110     0.092614     0.860186\n",
      "     0.321294     0.656057     0.140675\n",
      "     0.678706     0.343943     0.859325\n",
      "     0.756277     0.649736     0.403633\n",
      "     0.243723     0.350264     0.596367\n",
      "     0.017700     0.317755     0.204064\n",
      "     0.982300     0.682245     0.795936\n",
      "     0.603230     0.785406     0.263766\n",
      "     0.396770     0.214594     0.736234\n",
      " \n",
      "Cartesian coords\n",
      "     2.014382    -0.532489     2.533855\n",
      "     0.640785     4.614348     3.213647\n",
      "     2.777936     4.814101     0.803581\n",
      "    -0.122769    -0.732242     4.943920\n",
      "     0.865917     3.423423     0.808530\n",
      "     1.789250     0.658436     4.938972\n",
      "     2.580213     3.008114     2.319881\n",
      "     0.074954     1.073744     3.427620\n",
      "    -0.430828     1.461483     1.172858\n",
      "     3.085995     2.620376     4.574643\n",
      "     1.947519     3.960459     1.515996\n",
      "     0.707648     0.121399     4.231506\n"
     ]
    }
   ],
   "source": [
    "cell = reader.unit_cells[-1]\n",
    "cell.print_info()"
   ]
  },
  {
   "cell_type": "markdown",
   "id": "9a1eace5",
   "metadata": {},
   "source": [
    "The masses used by the DFT codes to calculate the normal modes are often not consistent.  PDielec will use a consistent set of masses to determine the normal modes.  In this case we use the natural occuring average of isotope masses"
   ]
  },
  {
   "cell_type": "code",
   "execution_count": 64,
   "id": "4a226673",
   "metadata": {},
   "outputs": [],
   "source": [
    "from PDielec.Constants import average_masses\n",
    "mass_dictionary = {}\n",
    "reader.reset_masses()\n",
    "reader.change_masses(average_masses,mass_dictionary)"
   ]
  },
  {
   "cell_type": "markdown",
   "id": "54b84b9d",
   "metadata": {},
   "source": [
    "Now use the reader to calculate the dynamical matrix, the mass weighted normal modes and the frequencies.  The reader is told to calculate the frequencies assuming Eckart conditions (that is projecting out the translational degrees of freedom from the dynamical matrix)"
   ]
  },
  {
   "cell_type": "code",
   "execution_count": 65,
   "id": "6723663d",
   "metadata": {},
   "outputs": [],
   "source": [
    "reader.eckart = True\n",
    "mass_weighted_normal_modes = reader.calculate_mass_weighted_normal_modes()\n",
    "frequencies_in_cm1 = reader.frequencies"
   ]
  },
  {
   "cell_type": "markdown",
   "id": "01e2481a",
   "metadata": {},
   "source": [
    "We can print out the frequencies and see that we have one imaginary mode indicated by -40.205.  The next 3 modes are zero as required by the Eckart conditions."
   ]
  },
  {
   "cell_type": "code",
   "execution_count": 66,
   "id": "ecee9168",
   "metadata": {},
   "outputs": [
    {
     "name": "stdout",
     "output_type": "stream",
     "text": [
      "Mode:   0, frequency -40.205 cm-1\n",
      "Mode:   1, frequency -0.000 cm-1\n",
      "Mode:   2, frequency -0.000 cm-1\n",
      "Mode:   3, frequency 0.000 cm-1\n",
      "Mode:   4, frequency 72.766 cm-1\n",
      "Mode:   5, frequency 81.506 cm-1\n",
      "Mode:   6, frequency 103.773 cm-1\n",
      "Mode:   7, frequency 110.078 cm-1\n",
      "Mode:   8, frequency 121.843 cm-1\n",
      "Mode:   9, frequency 125.467 cm-1\n",
      "Mode:  10, frequency 165.349 cm-1\n",
      "Mode:  11, frequency 188.600 cm-1\n",
      "Mode:  12, frequency 192.570 cm-1\n",
      "Mode:  13, frequency 199.832 cm-1\n",
      "Mode:  14, frequency 210.703 cm-1\n",
      "Mode:  15, frequency 216.389 cm-1\n",
      "Mode:  16, frequency 239.311 cm-1\n",
      "Mode:  17, frequency 331.174 cm-1\n",
      "Mode:  18, frequency 351.833 cm-1\n",
      "Mode:  19, frequency 477.977 cm-1\n",
      "Mode:  20, frequency 496.180 cm-1\n",
      "Mode:  21, frequency 525.221 cm-1\n",
      "Mode:  22, frequency 537.805 cm-1\n",
      "Mode:  23, frequency 559.766 cm-1\n",
      "Mode:  24, frequency 577.761 cm-1\n",
      "Mode:  25, frequency 613.071 cm-1\n",
      "Mode:  26, frequency 687.170 cm-1\n",
      "Mode:  27, frequency 712.117 cm-1\n",
      "Mode:  28, frequency 985.915 cm-1\n",
      "Mode:  29, frequency 1114.612 cm-1\n",
      "Mode:  30, frequency 1154.222 cm-1\n",
      "Mode:  31, frequency 1349.022 cm-1\n",
      "Mode:  32, frequency 1356.877 cm-1\n",
      "Mode:  33, frequency 1417.603 cm-1\n",
      "Mode:  34, frequency 1430.790 cm-1\n",
      "Mode:  35, frequency 2506.583 cm-1\n"
     ]
    }
   ],
   "source": [
    "frequencies_in_cm1 = reader.frequencies\n",
    "for mode,freq in enumerate(frequencies_in_cm1):\n",
    "    print('Mode: {:3}, frequency {:4.3f} cm-1'.format(mode,freq))"
   ]
  },
  {
   "cell_type": "markdown",
   "id": "54b50dff",
   "metadata": {},
   "source": [
    "The mass weight normal mode for mode 0, which had an imaginary eigenvalue, indicated by its negative frequency consists of atoms moving in x,y and z coordinates.  The example below shows that for this mode there are pairs of atoms moving in the same direction.  The largest components are associated with the first two atoms in the unit cell."
   ]
  },
  {
   "cell_type": "code",
   "execution_count": 67,
   "id": "17f05ff7",
   "metadata": {},
   "outputs": [
    {
     "data": {
      "text/plain": [
       "[[-0.401922070207739, 0.11448751178587527, -0.3372723834672907],\n",
       " [-0.4019220702077392, 0.11448751178584565, -0.33727238346730615],\n",
       " [0.0306742503493622, -0.010189114930221916, 0.024271102934127164],\n",
       " [0.030674250349374876, -0.010189114930241926, 0.024271102934085558],\n",
       " [0.18692716812922075, -0.19764207122837507, -0.07549694103849534],\n",
       " [0.18692716812927998, -0.19764207122844155, -0.0754969410386071],\n",
       " [-0.024338723790864335, 0.17647119652319376, 0.25224873387744984],\n",
       " [-0.0243387237908143, 0.17647119652310359, 0.2522487338773343],\n",
       " [0.14754095444731558, -0.08245683921157045, 0.06083214668022772],\n",
       " [0.14754095444730375, -0.0824568392114875, 0.0608321466801342],\n",
       " [0.02246278345704881, 0.011100436619370819, 0.044734229996130186],\n",
       " [0.022462783457088183, 0.011100436619288048, 0.04473422999603764]]"
      ]
     },
     "execution_count": 67,
     "metadata": {},
     "output_type": "execute_result"
    }
   ],
   "source": [
    "mass_weighted_normal_modes[0]"
   ]
  },
  {
   "cell_type": "markdown",
   "id": "72e2985f",
   "metadata": {},
   "source": [
    "To calculate the infrared intensities we need to make use of the Born charges to determine the change in dipole moment for each normal mode.  The calculation is done in atomic units (au), so massess and frequencies are converted to au.\n",
    "The mass weighted normal modes which are determined by diagonalising the dynamical matrix are converted to normal modes in a basis of cartesian coordinates.  The the oscillator strengths are determined from the Born charges and normal modes.  Finally the intensities are determined.  The resulting intensities are converted to the units of $ Debye^{2} \\unicode{x212B}^{-2} amu^{-1} $ by the routine Calculator.infrared_intensities()."
   ]
  },
  {
   "cell_type": "code",
   "execution_count": 68,
   "id": "4274ba3c",
   "metadata": {},
   "outputs": [],
   "source": [
    "import numpy as np\n",
    "from PDielec.Constants import wavenumber, amu\n",
    "import PDielec.Calculator as Calculator\n",
    "frequencies_in_au = wavenumber * np.array(frequencies_in_cm1)\n",
    "born_charges = np.array(reader.born_charges)\n",
    "masses = amu * np.array(reader.masses)\n",
    "normal_modes = Calculator.normal_modes(masses,mass_weighted_normal_modes)\n",
    "oscillator_strengths = Calculator.oscillator_strengths(normal_modes, born_charges)\n",
    "intensities = Calculator.infrared_intensities(oscillator_strengths)"
   ]
  },
  {
   "cell_type": "code",
   "execution_count": 69,
   "id": "7c7f5de3",
   "metadata": {},
   "outputs": [
    {
     "data": {
      "text/plain": [
       "<StemContainer object of 3 artists>"
      ]
     },
     "execution_count": 69,
     "metadata": {},
     "output_type": "execute_result"
    },
    {
     "data": {
      "image/png": "[encoded data removed]",
      "text/plain": [
       "<Figure size 432x288 with 1 Axes>"
      ]
     },
     "metadata": {
      "needs_background": "light"
     },
     "output_type": "display_data"
    }
   ],
   "source": [
    "%matplotlib inline\n",
    "import matplotlib.pyplot as plt\n",
    "plt.stem(frequencies_in_cm1,intensities,markerfmt=' ')"
   ]
  }
 ],
 "metadata": {
  "kernelspec": {
   "display_name": "Python 3 (ipykernel)",
   "language": "python",
   "name": "python3"
  },
  "language_info": {
   "codemirror_mode": {
    "name": "ipython",
    "version": 3
   },
   "file_extension": ".py",
   "mimetype": "text/x-python",
   "name": "python",
   "nbconvert_exporter": "python",
   "pygments_lexer": "ipython3",
   "version": "3.8.5"
  }
 },
 "nbformat": 4,
 "nbformat_minor": 5
}
