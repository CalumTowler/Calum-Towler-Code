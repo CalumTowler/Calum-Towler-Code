{
 "cells": [
  {
   "cell_type": "code",
   "execution_count": 1,
   "id": "79c2ab8e",
   "metadata": {},
   "outputs": [],
   "source": [
    "import sys,os\n",
    "import numpy as np\n",
    "import pandas as pd\n",
    "\n",
    "import cclib\n",
    "from cclib.bridge.cclib2ase import makease\n",
    "from cclib.bridge.cclib2openbabel import makeopenbabel\n",
    "\n",
    "from ase.geometry.analysis import Analysis\n",
    "\n",
    "from pymatgen.io.ase import AseAtomsAdaptor\n",
    "from pymatgen.analysis.molecule_matcher import MoleculeMatcher, HungarianOrderMatcher\n",
    "from pymatgen.core.composition import Composition\n",
    "from pymatgen.core import Molecule\n",
    "from pymatgen.symmetry.analyzer import PointGroupAnalyzer\n",
    "\n",
    "from IPython.display import display, Markdown, Latex\n",
    "\n",
    "\n"
   ]
  },
  {
   "cell_type": "code",
   "execution_count": 2,
   "id": "90075f39",
   "metadata": {
    "tags": [
     "parameters"
    ]
   },
   "outputs": [],
   "source": [
    "#Answer data\n",
    "filename1 = \"C:/Users/eenadbu/PortableApps/Git/Notebook/CH4_opt_631g_d/output.out\"\n",
    "data1 = cclib.io.ccread(filename1)\n",
    "filename2 = \"C:/Users/eenadbu/PortableApps/Git/Notebook/CH4_opt_63111++g_dd/output.out\"\n",
    "data2 = cclib.io.ccread(filename2)\n",
    "filename3 = \"C:/Users/eenadbu/PortableApps/Git/Notebook/CH4_opt_ccp-VTZ/output.out\"\n",
    "data3 = cclib.io.ccread(filename3)\n",
    "\n",
    "#Student info\n",
    "\n",
    "#User = 'eenadbu'\n",
    "\n",
    "JobID1 = 18356\n",
    "JobID2 = 18746\n",
    "JobID3 = 18777\n",
    "\n",
    "\n",
    "#Student data\n",
    "#filename4 = \"C:/Users/eenadbu/PortableApps/Git/Notebook/hand_clean/output.out\"\n",
    "#filename5 = \"C:/Users/eenadbu/PortableApps/Git/Notebook/hand_rubbish/output.out\"\n",
    "#filename6 = \"C:/Users/eenadbu/PortableApps/Git/Notebook/CH4_opt_ccp-VTZ/output.out\"\n",
    "\n",
    "\n"
   ]
  },
  {
   "cell_type": "code",
   "execution_count": 3,
   "id": "40d6f79d",
   "metadata": {},
   "outputs": [],
   "source": [
    "data4 = cclib.io.ccread(filename4)\n",
    "data5 = cclib.io.ccread(filename5)\n",
    "data6 = cclib.io.ccread(filename6)"
   ]
  },
  {
   "cell_type": "code",
   "execution_count": 4,
   "id": "ee2856a6",
   "metadata": {},
   "outputs": [],
   "source": [
    "filelist = [data1, data2, data3, data4, data5, data6]\n",
    "runlist = [\"run 1\", \"run 2\", \"run 3\"]\n",
    "anslist = [\"answer 1\", \"answer 2\", \"answer 3\"]\n",
    "\n",
    "\n",
    "def ProcessFiles(filelist):\n",
    "\n",
    "    data = {\"Basis Set\":[], \"Functional\":[], \"Success\":[], \"Package\":[], \"Initial Atom Coords\":[], \"Final Atom Coords\":[],\n",
    "           \"Atom Nos\":[], \"Charge\":[], \"Multiplicity\":[], \"# Electrons\": [], \"# atoms\": [], \"Opt Done\": [], \"SCF Energies\":[],\n",
    "           \"Ase Initial\":[], \"Ase Final\":[], \"Pymat Initial\":[], \"Pymat Final\":[], \"Reduced Formula\":[], \"Initial Distance Matrix\":[],\n",
    "           \"Final Distance Matrix\":[], \"Initial Symm\":[], \"Final Symm Low Tol\": [], \"Final Symm High Tol\": []}\n",
    "\n",
    "    for i in filelist:\n",
    "        data[\"Basis Set\"].append(i.metadata[\"basis_set\"])\n",
    "        data[\"Functional\"].append(i.metadata[\"functional\"])\n",
    "        data[\"Success\"].append(i.metadata[\"success\"])\n",
    "        data[\"Package\"].append(i.metadata[\"package\"])\n",
    "        data[\"Initial Atom Coords\"].append(i.atomcoords[0])\n",
    "        data[\"Final Atom Coords\"].append(i.atomcoords[-1])\n",
    "        data[\"Atom Nos\"].append(i.atomnos)\n",
    "        data[\"Charge\"].append(i.charge)\n",
    "        data[\"Multiplicity\"].append(i.mult)\n",
    "        data[\"# Electrons\"].append(i.nelectrons)\n",
    "        data[\"# atoms\"].append(i.natom)\n",
    "        data[\"Opt Done\"].append(i.optdone)\n",
    "        data[\"SCF Energies\"].append(i.scfenergies)\n",
    "        asestart = makease(i.atomcoords[0], i.atomnos, atomcharges=None, atomspins=None, atommasses=None)\n",
    "        aseend = makease(i.atomcoords[-1], i.atomnos, atomcharges=i.atomcharges['mulliken'], atomspins=None, atommasses=None)\n",
    "        pymatstart = AseAtomsAdaptor.get_molecule(asestart)\n",
    "        pymatend = AseAtomsAdaptor.get_molecule(aseend)\n",
    "        data[\"Ase Initial\"].append(asestart)\n",
    "        data[\"Ase Final\"].append(aseend)\n",
    "        data[\"Pymat Initial\"].append(pymatstart)\n",
    "        data[\"Pymat Final\"].append(pymatend)\n",
    "        data[\"Reduced Formula\"].append(pymatend.composition.reduced_formula)\n",
    "        data[\"Initial Distance Matrix\"].append(pymatstart.distance_matrix)\n",
    "        data[\"Final Distance Matrix\"].append(pymatend.distance_matrix)\n",
    "        x=PointGroupAnalyzer(pymatstart,tolerance=0.000001)\n",
    "        data[\"Initial Symm\"].append(x.sch_symbol)\n",
    "        x=PointGroupAnalyzer(pymatend,tolerance=0.0001)\n",
    "        data[\"Final Symm Low Tol\"].append(x.sch_symbol)\n",
    "        x=PointGroupAnalyzer(pymatend,tolerance=0.0000001)\n",
    "        data[\"Final Symm High Tol\"].append(x.sch_symbol)\n",
    "\n",
    "\n",
    "\n",
    "    df = pd.DataFrame(data, index=['answer 1', 'answer 2', 'answer 3', 'run 1', 'run 2', 'run 3'])\n",
    "    \n",
    "    return df\n",
    "\n",
    "#display(df)\n",
    "\n"
   ]
  },
  {
   "cell_type": "code",
   "execution_count": 5,
   "id": "7fa34038",
   "metadata": {},
   "outputs": [],
   "source": [
    "def SanityFiles(df, runlist, anslist):\n",
    "\n",
    "\n",
    "    #Sanity checks\n",
    "    SanScore = 0\n",
    "    ErrScore = 0\n",
    "    runcheck = []\n",
    "    if df.loc[\"answer 1\",\"Package\"]==df.loc[\"run 1\",\"Package\"] and df.loc[\"answer 2\",\"Package\"]==df.loc[\"run 2\",\"Package\"] and df.loc[\"answer 3\",\"Package\"]==df.loc[\"run 3\",\"Package\"]:\n",
    "        display(Markdown(\"all calculations used NWchem - 1 mark\"))\n",
    "        SanScore = SanScore + 1\n",
    "    else:\n",
    "        display(Markdown(\"**all calculations did not use Nwchem - you were asked to use Nwchem to perform your calculations**\"))\n",
    "\n",
    "    x = 0\n",
    "\n",
    "    for i in runlist:\n",
    "        display(Markdown(\"for \" + i + \"\\n\"))\n",
    "        if df.loc[anslist[x],\"Basis Set\"]==df.loc[i,\"Basis Set\"]:\n",
    "            display(Markdown(\"The correct Basis Set was used - 1 mark\"))\n",
    "            SanScore = SanScore + 1  \n",
    "        else:\n",
    "            one = df.loc[anslist[x],\"Basis Set\"]\n",
    "            two = df.loc[i,\"Basis Set\"]\n",
    "            display(Markdown(\"**An incorrect Basis Set was used, you should have used {one}** **but used {two}** \".format(one=one, two=two)))\n",
    "            ErrScore = ErrScore + 1\n",
    "        if df.loc[anslist[x],\"Functional\"]==df.loc[i,\"Functional\"]:\n",
    "            display(Markdown(\"The correct Functional was used - 1 mark\"))\n",
    "            SanScore = SanScore + 1\n",
    "        else:\n",
    "            one = df.loc[anslist[x],\"Functional\"]\n",
    "            two = df.loc[i,\"Functional\"]\n",
    "            display(Markdown(\"**An incorrect Functional was used, you should have used {one}** **but used {two}** \".format(one=one, two=two)))\n",
    "            ErrScore = ErrScore + 1\n",
    "        if df.loc[anslist[x],\"Success\"]==df.loc[i,\"Success\"]:\n",
    "            display(Markdown(\"Your calculation completed sucessfully - 1 mark\"))\n",
    "            SanScore = SanScore + 1  \n",
    "        else:\n",
    "            display(Markdown(\"Your calculation did not complete sucessfully - This often means the starting structure was poor and the job did not find an optimal structure in a sensible number of steps\"))\n",
    "            ErrScore = ErrScore + 1\n",
    "        if df.loc[anslist[x],\"Opt Done\"]==df.loc[i,\"Opt Done\"]:\n",
    "            display(Markdown(\"A geometry optimisation was performed - 1 mark\"))\n",
    "            SanScore = SanScore + 1  \n",
    "        else:\n",
    "            display(Markdown(\"**A geometry optimisation was not performed - The aim of the exercise is to perform a geometry optimisation to obtain a minium energy structure**\"))\n",
    "            ErrScore = ErrScore + 1\n",
    "        if df.loc[anslist[x],\"# atoms\"]==df.loc[i,\"# atoms\"]:\n",
    "            display(Markdown(\"You have the correct number of atoms - 1 mark\"))\n",
    "            SanScore = SanScore + 1  \n",
    "        else:\n",
    "            display(Markdown(\"**You have the incorrect number of atoms - Check the molecule that you've submitted**\"))\n",
    "            ErrScore = ErrScore + 1\n",
    "        if df.loc[anslist[x],\"# Electrons\"]==df.loc[i,\"# Electrons\"]:\n",
    "            display(Markdown(\"You have the correct number of electrons - 1 mark\"))\n",
    "            SanScore = SanScore + 1  \n",
    "        else:\n",
    "            display(Markdown(\"**You have the incorrect number of electrons - Check the molecule that you've submitted**\"))\n",
    "            ErrScore = ErrScore + 1\n",
    "        if df.loc[anslist[x],\"Reduced Formula\"]==df.loc[i,\"Reduced Formula\"]:\n",
    "            display(Markdown(\"You have the correct number and type of atoms - 1 mark\"))\n",
    "            SanScore = SanScore + 1  \n",
    "        else:\n",
    "            display(Markdown(\"**You have the incorrect number and type of atoms - Check the molecule that you've submitted**\"))\n",
    "            ErrScore = ErrScore + 1\n",
    "        display(Markdown(\"\"))\n",
    "        if ErrScore >= 1:\n",
    "            runcheck.append(1)\n",
    "        else:\n",
    "            runcheck.append(0)\n",
    "        ErrScore = 0\n",
    "        x = x + 1\n",
    "\n",
    "    return SanScore, runcheck\n"
   ]
  },
  {
   "cell_type": "code",
   "execution_count": 6,
   "id": "36660e88",
   "metadata": {},
   "outputs": [],
   "source": [
    "def InitialProcess(df, runlist):\n",
    "    # Intial structures\n",
    "    InitialScore = 0\n",
    "\n",
    "    for i in runlist:\n",
    "        display(Markdown(\"for \" + i + \" \"))\n",
    "        p = HungarianOrderMatcher(df.loc[\"answer 1\",\"Pymat Initial\"])\n",
    "        q = HungarianOrderMatcher(df.loc[\"answer 1\",\"Pymat Final\"])\n",
    "        fit = p.fit(df.loc[i,\"Pymat Initial\"])\n",
    "        fit2 = q.fit(df.loc[i,\"Pymat Initial\"])\n",
    "\n",
    "        if fit[1] or fit2[1] <= 1E-2:\n",
    "            display(Markdown(\"The starting structure seems sensible - 2 marks \\n\"))\n",
    "            InitialScore = InitialScore + 2\n",
    "        else :\n",
    "            display(Markdown(\"**There is a very large error in your starting structure, make sure it makes chemical sense** \\n\"))\n",
    "\n",
    "\n",
    "        if df.loc[\"answer 1\",\"Initial Symm\"] == df.loc[i,\"Initial Symm\"]:\n",
    "            display(Markdown(\"Symmetry of starting structure is correct - 2 marks \\n\"))\n",
    "            InitialScore = InitialScore + 2\n",
    "        else:\n",
    "            display(Markdown(\"**Symmetry of starting structure is not correct consider a better starting structure** \\n\"))\n",
    "            \n",
    "    return(InitialScore)"
   ]
  },
  {
   "cell_type": "code",
   "execution_count": 7,
   "id": "b7233591",
   "metadata": {},
   "outputs": [],
   "source": [
    "\n",
    "def FinalProcess(df, runlist, anslist, runcheck):\n",
    "    # final Structures\n",
    "    x = 0\n",
    "    FinalScore = 0\n",
    "\n",
    "    for i in runlist:\n",
    "        if runcheck[x] == 0:\n",
    "            display(Markdown(\"for \" + i + \"\\n\"))\n",
    "            EnergyDiff = abs(df.loc[anslist[x],\"SCF Energies\"][-1] - df.loc[i,\"SCF Energies\"][-1])\n",
    "            if EnergyDiff <= 1E-10:\n",
    "                display(Markdown(\"Final energy matches within error of the calculation - 10 marks \\n\"))\n",
    "                FinalScore = FinalScore + 10\n",
    "            elif EnergyDiff <= 1E-8:\n",
    "                display(Markdown(\"There is a small error in your final energy - 5 marks \\n\"))\n",
    "                FinalScore = FinalScore + 5\n",
    "            elif EnergyDiff <= 1E-5:\n",
    "                display(Markdown(\"There is a significant error in your final energy - 3 marks \\n\"))\n",
    "                FinalScore = FinalScore + 3\n",
    "            else :\n",
    "                display(Markdown(\"**There is a very large error in your final energy** \\n\"))\n",
    "\n",
    "            p = HungarianOrderMatcher(df.loc[anslist[x],\"Pymat Final\"])\n",
    "            fit = p.fit(df.loc[i,\"Pymat Final\"])\n",
    "            if fit[1] <= 1E-12:\n",
    "                display(Markdown(\"The optimised structure is correct - 10 marks \\n\"))\n",
    "                FinalScore = FinalScore + 10\n",
    "            elif fit[1] <= 1E-10:\n",
    "                display(Markdown(\"There is a small error in your optimsied structure - 5 marks \\n\"))\n",
    "                FinalScore = FinalScore + 5\n",
    "            elif fit[1] <= 1E-5:\n",
    "                display(Markdown(\"There is a significant error in your optimsied structure - 3 marks \\n\"))\n",
    "                FinalScore = FinalScore + 3\n",
    "            else :\n",
    "                display(Markdown(\"**There is a very large error in your optimsied structure** \\n\"))\n",
    "\n",
    "            bondDiff = np.array(df.loc[anslist[x],\"Final Distance Matrix\"] - df.loc[i,\"Final Distance Matrix\"])\n",
    "            bondDiff = np.linalg.det(bondDiff)\n",
    "            if abs(bondDiff) < 1E-25:\n",
    "                display(Markdown(\"Bond Lengths are correct - 10 marks \\n\"))\n",
    "                FinalScore = FinalScore + 10\n",
    "            elif abs(bondDiff) < 1E-25:\n",
    "                if bondDiff > 0:\n",
    "                    display(Markdown(\"Bond Lengths could be slightly shorter than expected - 5 marks \\n\"))\n",
    "                    FinalScore = FinalScore + 5\n",
    "                else :\n",
    "                    display(Markdown(\"Bond Lengths could be slightly longer than expected - 5 marks \\n\"))\n",
    "                    FinalScore = FinalScore + 5\n",
    "            elif abs(bondDiff) < 1E-20:\n",
    "                if bondDiff > 0:\n",
    "                    display(Markdown(\"**Bond Lengths shorter than expected** \\n\"))\n",
    "                else :\n",
    "                    display(Markdown(\"**Bond Lengths could be longer than expected** \\n\"))\n",
    "            else :\n",
    "                display(Markdown(\"**Bond Lengths Seem very strange, check the structure** \\n\"))\n",
    "\n",
    "            if df.loc[anslist[x],\"Final Symm High Tol\"] == df.loc[i,\"Final Symm High Tol\"]:\n",
    "                display(Markdown(\"Symmetry of optimised structure is correct - 10 marks \\n\"))\n",
    "                FinalScore = FinalScore + 10\n",
    "            elif df.loc[anslist[x],\"Final Symm Low Tol\"] == df.loc[i,\"Final Symm Low Tol\"]:\n",
    "                display(Markdown(\"Symmetry of optimised structure is correct to a low tolerance, consider a better starting structure - 5 marks \\n\"))\n",
    "                FinalScore = FinalScore + 5\n",
    "            else:\n",
    "                display(Markdown(\"**Symmetry of optimised structure is not correct consider a better starting structure** \\n\"))            \n",
    "        else :\n",
    "            display(Markdown(i + \" **failed the sanity check and will not be scored, check errors above to see what went wrong** \\n\"))\n",
    "        x = x + 1\n",
    "    return (FinalScore)"
   ]
  },
  {
   "cell_type": "code",
   "execution_count": 8,
   "id": "262c3445",
   "metadata": {},
   "outputs": [],
   "source": [
    "def ExtraProcess(df, runlist):\n",
    "    # Extra Feedback\n",
    "    for i in runlist:\n",
    "        Steps = len(df.loc[i,\"SCF Energies\"])\n",
    "        if Steps >= 10:\n",
    "            display(Markdown(\"for \" + i + \" \"))\n",
    "            if True == df.loc[i,\"Success\"]:\n",
    "                display(Markdown(\"your optimisation took a large number of steps to complete, consider a better starting structure\"))\n",
    "            else:\n",
    "                display(Markdown(\"your optimisation took a large number of steps and could not find an sensible structure before stopping, consider a better starting structure\"))\n",
    "        elif Steps >= 5:\n",
    "            display(Markdown(\"for \" + i + \" \"))\n",
    "            display(Markdown(\"your optimisation took a more steps to complete than necessary, consider a better starting structure\"))\n",
    "        else :\n",
    "            display(Markdown(\"\"))\n",
    "\n",
    "    if df.loc[\"run 1\",\"Pymat Final\"] == df.loc[\"run 2\",\"Pymat Initial\"] and \\\n",
    "        df.loc[\"run 2\",\"Pymat Final\"] == df.loc[\"run 3\",\"Pymat Initial\"]:\n",
    "        display(Markdown(\"\"))\n",
    "    else :\n",
    "        display(Markdown(\"When running multiple calculations using different basis sets you can waste alot of time by starting from poor structures \\\n",
    "              instead consider optimsing using a small basis set (This should be quick) and then starting your other runs with larger \\\n",
    "              basis sets from this already optimised structure\"))\n"
   ]
  },
  {
   "cell_type": "code",
   "execution_count": 17,
   "id": "1929ff86",
   "metadata": {},
   "outputs": [
    {
     "data": {
      "text/markdown": [
       "# Unit 2 Methane Feedback"
      ],
      "text/plain": [
       "<IPython.core.display.Markdown object>"
      ]
     },
     "metadata": {},
     "output_type": "display_data"
    },
    {
     "data": {
      "text/markdown": [
       "Username = eenadbu"
      ],
      "text/plain": [
       "<IPython.core.display.Markdown object>"
      ]
     },
     "metadata": {},
     "output_type": "display_data"
    },
    {
     "data": {
      "text/markdown": [
       "Run 1 = 18356 This should be the optimisation of CH<sub>4</sub> using NWchem with 6-31g* and B3LYP"
      ],
      "text/plain": [
       "<IPython.core.display.Markdown object>"
      ]
     },
     "metadata": {},
     "output_type": "display_data"
    },
    {
     "data": {
      "text/markdown": [
       "Run 2 = 18746 This should be the optimisation of CH<sub>4</sub> using NWchem with 6-3111++g** and B3LYP"
      ],
      "text/plain": [
       "<IPython.core.display.Markdown object>"
      ]
     },
     "metadata": {},
     "output_type": "display_data"
    },
    {
     "data": {
      "text/markdown": [
       "Run 3 = 18777 This should be the optimisation of CH<sub>4</sub> using NWchem with cc-pVTZ and B3LYP"
      ],
      "text/plain": [
       "<IPython.core.display.Markdown object>"
      ]
     },
     "metadata": {},
     "output_type": "display_data"
    },
    {
     "data": {
      "text/markdown": [
       "## Checking the Calculation Used Sensible Settings"
      ],
      "text/plain": [
       "<IPython.core.display.Markdown object>"
      ]
     },
     "metadata": {},
     "output_type": "display_data"
    },
    {
     "data": {
      "text/markdown": [
       "In this first section what were checking is that each optimisation was run with sensible settings, that is that the correct software, basis set and functional were used and for each calculation there are the correct number and type of atoms."
      ],
      "text/plain": [
       "<IPython.core.display.Markdown object>"
      ]
     },
     "metadata": {},
     "output_type": "display_data"
    },
    {
     "data": {
      "text/markdown": [
       "This is essentially a sanity check to make sure the calculations were somewhat sensible and is marked out of a total of 22 marks"
      ],
      "text/plain": [
       "<IPython.core.display.Markdown object>"
      ]
     },
     "metadata": {},
     "output_type": "display_data"
    },
    {
     "data": {
      "text/markdown": [
       "Any errors that you should go and look at will be in **bold**. If a calculation fails this sanity check it will not be marked in the final section."
      ],
      "text/plain": [
       "<IPython.core.display.Markdown object>"
      ]
     },
     "metadata": {},
     "output_type": "display_data"
    },
    {
     "data": {
      "text/markdown": [
       "all calculations used NWchem - 1 mark"
      ],
      "text/plain": [
       "<IPython.core.display.Markdown object>"
      ]
     },
     "metadata": {},
     "output_type": "display_data"
    },
    {
     "data": {
      "text/markdown": [
       "for run 1\n"
      ],
      "text/plain": [
       "<IPython.core.display.Markdown object>"
      ]
     },
     "metadata": {},
     "output_type": "display_data"
    },
    {
     "data": {
      "text/markdown": [
       "The correct Basis Set was used - 1 mark"
      ],
      "text/plain": [
       "<IPython.core.display.Markdown object>"
      ]
     },
     "metadata": {},
     "output_type": "display_data"
    },
    {
     "data": {
      "text/markdown": [
       "The correct Functional was used - 1 mark"
      ],
      "text/plain": [
       "<IPython.core.display.Markdown object>"
      ]
     },
     "metadata": {},
     "output_type": "display_data"
    },
    {
     "data": {
      "text/markdown": [
       "Your calculation completed sucessfully - 1 mark"
      ],
      "text/plain": [
       "<IPython.core.display.Markdown object>"
      ]
     },
     "metadata": {},
     "output_type": "display_data"
    },
    {
     "data": {
      "text/markdown": [
       "A geometry optimisation was performed - 1 mark"
      ],
      "text/plain": [
       "<IPython.core.display.Markdown object>"
      ]
     },
     "metadata": {},
     "output_type": "display_data"
    },
    {
     "data": {
      "text/markdown": [
       "You have the correct number of atoms - 1 mark"
      ],
      "text/plain": [
       "<IPython.core.display.Markdown object>"
      ]
     },
     "metadata": {},
     "output_type": "display_data"
    },
    {
     "data": {
      "text/markdown": [
       "You have the correct number of electrons - 1 mark"
      ],
      "text/plain": [
       "<IPython.core.display.Markdown object>"
      ]
     },
     "metadata": {},
     "output_type": "display_data"
    },
    {
     "data": {
      "text/markdown": [
       "You have the correct number and type of atoms - 1 mark"
      ],
      "text/plain": [
       "<IPython.core.display.Markdown object>"
      ]
     },
     "metadata": {},
     "output_type": "display_data"
    },
    {
     "data": {
      "text/markdown": [],
      "text/plain": [
       "<IPython.core.display.Markdown object>"
      ]
     },
     "metadata": {},
     "output_type": "display_data"
    },
    {
     "data": {
      "text/markdown": [
       "for run 2\n"
      ],
      "text/plain": [
       "<IPython.core.display.Markdown object>"
      ]
     },
     "metadata": {},
     "output_type": "display_data"
    },
    {
     "data": {
      "text/markdown": [
       "**An incorrect Basis Set was used, you should have used 6-311++G**** **but used 6-31G*** "
      ],
      "text/plain": [
       "<IPython.core.display.Markdown object>"
      ]
     },
     "metadata": {},
     "output_type": "display_data"
    },
    {
     "data": {
      "text/markdown": [
       "The correct Functional was used - 1 mark"
      ],
      "text/plain": [
       "<IPython.core.display.Markdown object>"
      ]
     },
     "metadata": {},
     "output_type": "display_data"
    },
    {
     "data": {
      "text/markdown": [
       "Your calculation completed sucessfully - 1 mark"
      ],
      "text/plain": [
       "<IPython.core.display.Markdown object>"
      ]
     },
     "metadata": {},
     "output_type": "display_data"
    },
    {
     "data": {
      "text/markdown": [
       "A geometry optimisation was performed - 1 mark"
      ],
      "text/plain": [
       "<IPython.core.display.Markdown object>"
      ]
     },
     "metadata": {},
     "output_type": "display_data"
    },
    {
     "data": {
      "text/markdown": [
       "You have the correct number of atoms - 1 mark"
      ],
      "text/plain": [
       "<IPython.core.display.Markdown object>"
      ]
     },
     "metadata": {},
     "output_type": "display_data"
    },
    {
     "data": {
      "text/markdown": [
       "You have the correct number of electrons - 1 mark"
      ],
      "text/plain": [
       "<IPython.core.display.Markdown object>"
      ]
     },
     "metadata": {},
     "output_type": "display_data"
    },
    {
     "data": {
      "text/markdown": [
       "You have the correct number and type of atoms - 1 mark"
      ],
      "text/plain": [
       "<IPython.core.display.Markdown object>"
      ]
     },
     "metadata": {},
     "output_type": "display_data"
    },
    {
     "data": {
      "text/markdown": [],
      "text/plain": [
       "<IPython.core.display.Markdown object>"
      ]
     },
     "metadata": {},
     "output_type": "display_data"
    },
    {
     "data": {
      "text/markdown": [
       "for run 3\n"
      ],
      "text/plain": [
       "<IPython.core.display.Markdown object>"
      ]
     },
     "metadata": {},
     "output_type": "display_data"
    },
    {
     "data": {
      "text/markdown": [
       "The correct Basis Set was used - 1 mark"
      ],
      "text/plain": [
       "<IPython.core.display.Markdown object>"
      ]
     },
     "metadata": {},
     "output_type": "display_data"
    },
    {
     "data": {
      "text/markdown": [
       "The correct Functional was used - 1 mark"
      ],
      "text/plain": [
       "<IPython.core.display.Markdown object>"
      ]
     },
     "metadata": {},
     "output_type": "display_data"
    },
    {
     "data": {
      "text/markdown": [
       "Your calculation completed sucessfully - 1 mark"
      ],
      "text/plain": [
       "<IPython.core.display.Markdown object>"
      ]
     },
     "metadata": {},
     "output_type": "display_data"
    },
    {
     "data": {
      "text/markdown": [
       "A geometry optimisation was performed - 1 mark"
      ],
      "text/plain": [
       "<IPython.core.display.Markdown object>"
      ]
     },
     "metadata": {},
     "output_type": "display_data"
    },
    {
     "data": {
      "text/markdown": [
       "You have the correct number of atoms - 1 mark"
      ],
      "text/plain": [
       "<IPython.core.display.Markdown object>"
      ]
     },
     "metadata": {},
     "output_type": "display_data"
    },
    {
     "data": {
      "text/markdown": [
       "You have the correct number of electrons - 1 mark"
      ],
      "text/plain": [
       "<IPython.core.display.Markdown object>"
      ]
     },
     "metadata": {},
     "output_type": "display_data"
    },
    {
     "data": {
      "text/markdown": [
       "You have the correct number and type of atoms - 1 mark"
      ],
      "text/plain": [
       "<IPython.core.display.Markdown object>"
      ]
     },
     "metadata": {},
     "output_type": "display_data"
    },
    {
     "data": {
      "text/markdown": [],
      "text/plain": [
       "<IPython.core.display.Markdown object>"
      ]
     },
     "metadata": {},
     "output_type": "display_data"
    },
    {
     "data": {
      "text/markdown": [
       "## Looking at the Initial Starting Structure for Each Optimisation"
      ],
      "text/plain": [
       "<IPython.core.display.Markdown object>"
      ]
     },
     "metadata": {},
     "output_type": "display_data"
    },
    {
     "data": {
      "text/markdown": [
       "In this section I run some basic checks to make sure your starting structure is chemically sensible. The Sanity check has already checked that you have the right number and type of atoms so in this section I compare the starting structure to some other structures from databases or other calculations to make sure the bond lengths/angles make chemical sense."
      ],
      "text/plain": [
       "<IPython.core.display.Markdown object>"
      ]
     },
     "metadata": {},
     "output_type": "display_data"
    },
    {
     "data": {
      "text/markdown": [
       "These checks may not be perfect but they try and imitate what you should be doing when setting up a calculation. Make sure your starting structure is chemically sensible, if you start from a poor structure the optimisation is going to **a)** struggle to find an mimium energy structure and **b)** if it does it will have taken long to find one, wasting both your time and the computational resources"
      ],
      "text/plain": [
       "<IPython.core.display.Markdown object>"
      ]
     },
     "metadata": {},
     "output_type": "display_data"
    },
    {
     "data": {
      "text/markdown": [
       "It then checks to make sure the starting structure has the correct symmetry. This is really important, if a molecule has symmetry the calculation will take this into account and this can significantly speed up the calculation, if going on to use this structure for vibrational spectroscopy calculations, the symmetry also determines this number and IR/Raman activity of the vibrations you calculate."
      ],
      "text/plain": [
       "<IPython.core.display.Markdown object>"
      ]
     },
     "metadata": {},
     "output_type": "display_data"
    },
    {
     "data": {
      "text/markdown": [
       "Any errors will be in **bold**."
      ],
      "text/plain": [
       "<IPython.core.display.Markdown object>"
      ]
     },
     "metadata": {},
     "output_type": "display_data"
    },
    {
     "data": {
      "text/markdown": [
       "for run 1 "
      ],
      "text/plain": [
       "<IPython.core.display.Markdown object>"
      ]
     },
     "metadata": {},
     "output_type": "display_data"
    },
    {
     "data": {
      "text/markdown": [
       "The starting structure seems sensible - 2 marks \n"
      ],
      "text/plain": [
       "<IPython.core.display.Markdown object>"
      ]
     },
     "metadata": {},
     "output_type": "display_data"
    },
    {
     "data": {
      "text/markdown": [
       "Symmetry of starting structure is correct - 2 marks \n"
      ],
      "text/plain": [
       "<IPython.core.display.Markdown object>"
      ]
     },
     "metadata": {},
     "output_type": "display_data"
    },
    {
     "data": {
      "text/markdown": [
       "for run 2 "
      ],
      "text/plain": [
       "<IPython.core.display.Markdown object>"
      ]
     },
     "metadata": {},
     "output_type": "display_data"
    },
    {
     "data": {
      "text/markdown": [
       "The starting structure seems sensible - 2 marks \n"
      ],
      "text/plain": [
       "<IPython.core.display.Markdown object>"
      ]
     },
     "metadata": {},
     "output_type": "display_data"
    },
    {
     "data": {
      "text/markdown": [
       "**Symmetry of starting structure is not correct consider a better starting structure** \n"
      ],
      "text/plain": [
       "<IPython.core.display.Markdown object>"
      ]
     },
     "metadata": {},
     "output_type": "display_data"
    },
    {
     "data": {
      "text/markdown": [
       "for run 3 "
      ],
      "text/plain": [
       "<IPython.core.display.Markdown object>"
      ]
     },
     "metadata": {},
     "output_type": "display_data"
    },
    {
     "data": {
      "text/markdown": [
       "The starting structure seems sensible - 2 marks \n"
      ],
      "text/plain": [
       "<IPython.core.display.Markdown object>"
      ]
     },
     "metadata": {},
     "output_type": "display_data"
    },
    {
     "data": {
      "text/markdown": [
       "Symmetry of starting structure is correct - 2 marks \n"
      ],
      "text/plain": [
       "<IPython.core.display.Markdown object>"
      ]
     },
     "metadata": {},
     "output_type": "display_data"
    },
    {
     "data": {
      "text/markdown": [
       "## Checking your Optimised Structures"
      ],
      "text/plain": [
       "<IPython.core.display.Markdown object>"
      ]
     },
     "metadata": {},
     "output_type": "display_data"
    },
    {
     "data": {
      "text/markdown": [
       "In this section you will marked on the optimised structures you have obtained. Here your submitted structure is compared to a calculation already performed using the same settings. This is looking at the energy, bond lengths and symmerty of your final structure, along with the overall shape."
      ],
      "text/plain": [
       "<IPython.core.display.Markdown object>"
      ]
     },
     "metadata": {},
     "output_type": "display_data"
    },
    {
     "data": {
      "text/markdown": [
       "Any calculations that failed the Sanity check above will not be marked. Any Errors will be displayed in **bold** below."
      ],
      "text/plain": [
       "<IPython.core.display.Markdown object>"
      ]
     },
     "metadata": {},
     "output_type": "display_data"
    },
    {
     "data": {
      "text/markdown": [
       "for run 1\n"
      ],
      "text/plain": [
       "<IPython.core.display.Markdown object>"
      ]
     },
     "metadata": {},
     "output_type": "display_data"
    },
    {
     "data": {
      "text/markdown": [
       "Final energy matches within error of the calculation - 10 marks \n"
      ],
      "text/plain": [
       "<IPython.core.display.Markdown object>"
      ]
     },
     "metadata": {},
     "output_type": "display_data"
    },
    {
     "data": {
      "text/markdown": [
       "The optimised structure is correct - 10 marks \n"
      ],
      "text/plain": [
       "<IPython.core.display.Markdown object>"
      ]
     },
     "metadata": {},
     "output_type": "display_data"
    },
    {
     "data": {
      "text/markdown": [
       "Bond Lengths are correct - 10 marks \n"
      ],
      "text/plain": [
       "<IPython.core.display.Markdown object>"
      ]
     },
     "metadata": {},
     "output_type": "display_data"
    },
    {
     "data": {
      "text/markdown": [
       "Symmetry of optimised structure is correct - 10 marks \n"
      ],
      "text/plain": [
       "<IPython.core.display.Markdown object>"
      ]
     },
     "metadata": {},
     "output_type": "display_data"
    },
    {
     "data": {
      "text/markdown": [
       "run 2 failed the sanity check and will not be scored, check errors above to see what went wrong \n"
      ],
      "text/plain": [
       "<IPython.core.display.Markdown object>"
      ]
     },
     "metadata": {},
     "output_type": "display_data"
    },
    {
     "data": {
      "text/markdown": [
       "for run 3\n"
      ],
      "text/plain": [
       "<IPython.core.display.Markdown object>"
      ]
     },
     "metadata": {},
     "output_type": "display_data"
    },
    {
     "data": {
      "text/markdown": [
       "Final energy matches within error of the calculation - 10 marks \n"
      ],
      "text/plain": [
       "<IPython.core.display.Markdown object>"
      ]
     },
     "metadata": {},
     "output_type": "display_data"
    },
    {
     "data": {
      "text/markdown": [
       "The optimised structure is correct - 10 marks \n"
      ],
      "text/plain": [
       "<IPython.core.display.Markdown object>"
      ]
     },
     "metadata": {},
     "output_type": "display_data"
    },
    {
     "data": {
      "text/markdown": [
       "Bond Lengths are correct - 10 marks \n"
      ],
      "text/plain": [
       "<IPython.core.display.Markdown object>"
      ]
     },
     "metadata": {},
     "output_type": "display_data"
    },
    {
     "data": {
      "text/markdown": [
       "Symmetry of optimised structure is correct - 10 marks \n"
      ],
      "text/plain": [
       "<IPython.core.display.Markdown object>"
      ]
     },
     "metadata": {},
     "output_type": "display_data"
    },
    {
     "data": {
      "text/markdown": [
       "## Summary of Scores"
      ],
      "text/plain": [
       "<IPython.core.display.Markdown object>"
      ]
     },
     "metadata": {},
     "output_type": "display_data"
    },
    {
     "data": {
      "text/markdown": [
       "Your Sanity Score = 21 out of 22"
      ],
      "text/plain": [
       "<IPython.core.display.Markdown object>"
      ]
     },
     "metadata": {},
     "output_type": "display_data"
    },
    {
     "data": {
      "text/markdown": [
       "Your Score for Your Initial Structures = 10 out of 12"
      ],
      "text/plain": [
       "<IPython.core.display.Markdown object>"
      ]
     },
     "metadata": {},
     "output_type": "display_data"
    },
    {
     "data": {
      "text/markdown": [
       "Your Score for Your Optimised Structures = 80 out of 120"
      ],
      "text/plain": [
       "<IPython.core.display.Markdown object>"
      ]
     },
     "metadata": {},
     "output_type": "display_data"
    },
    {
     "data": {
      "text/markdown": [
       "## Extra Guidance and Advice"
      ],
      "text/plain": [
       "<IPython.core.display.Markdown object>"
      ]
     },
     "metadata": {},
     "output_type": "display_data"
    },
    {
     "data": {
      "text/markdown": [
       "Finally some additional checks have been run on your calculations to check to see if you could improve how you setup your calculations to speed them up and save you time - particularly when performing calculations on larger molecules in later units."
      ],
      "text/plain": [
       "<IPython.core.display.Markdown object>"
      ]
     },
     "metadata": {},
     "output_type": "display_data"
    },
    {
     "data": {
      "text/markdown": [
       "If you calculations pass all the checks there will be not further guidance included"
      ],
      "text/plain": [
       "<IPython.core.display.Markdown object>"
      ]
     },
     "metadata": {},
     "output_type": "display_data"
    },
    {
     "data": {
      "text/markdown": [],
      "text/plain": [
       "<IPython.core.display.Markdown object>"
      ]
     },
     "metadata": {},
     "output_type": "display_data"
    },
    {
     "data": {
      "text/markdown": [
       "for run 2 "
      ],
      "text/plain": [
       "<IPython.core.display.Markdown object>"
      ]
     },
     "metadata": {},
     "output_type": "display_data"
    },
    {
     "data": {
      "text/markdown": [
       "your optimisation took a large number of steps to complete, consider a better starting structure"
      ],
      "text/plain": [
       "<IPython.core.display.Markdown object>"
      ]
     },
     "metadata": {},
     "output_type": "display_data"
    },
    {
     "data": {
      "text/markdown": [],
      "text/plain": [
       "<IPython.core.display.Markdown object>"
      ]
     },
     "metadata": {},
     "output_type": "display_data"
    },
    {
     "data": {
      "text/markdown": [
       "When running multiple calculations using different basis sets you can waste alot of time by starting from poor structures               instead consider optimsing using a small basis set (This should be quick) and then starting your other runs with larger               basis sets from this already optimised structure"
      ],
      "text/plain": [
       "<IPython.core.display.Markdown object>"
      ]
     },
     "metadata": {},
     "output_type": "display_data"
    }
   ],
   "source": [
    "\n",
    "\n",
    "display(Markdown(\"# Unit 2 Methane Feedback\"))\n",
    "\n",
    "display(Markdown(\"Username = {User}\".format(User=User)))\n",
    "\n",
    "display(Markdown(\"Run 1 = {JobID1} This should be the optimisation of CH<sub>4</sub> using NWchem with 6-31g* and B3LYP\".format(JobID1=JobID1)))\n",
    "\n",
    "display(Markdown(\"Run 2 = {JobID2} This should be the optimisation of CH<sub>4</sub> using NWchem with 6-3111++g** and B3LYP\".format(JobID2=JobID2)))\n",
    "\n",
    "display(Markdown(\"Run 3 = {JobID3} This should be the optimisation of CH<sub>4</sub> using NWchem with cc-pVTZ and B3LYP\".format(JobID3=JobID3)))\n",
    "df = ProcessFiles(filelist)\n",
    "\n",
    "display(Markdown(\"## Checking the Calculation Used Sensible Settings\"))\n",
    "\n",
    "display(Markdown(\"In this first section what were checking is that each optimisation was run with sensible settings, that is that the correct software, basis set and functional were used and for each calculation there are the correct number and type of atoms.\")) \n",
    "\n",
    "display(Markdown(\"This is essentially a sanity check to make sure the calculations were somewhat sensible and is marked out of a total of 22 marks\"))\n",
    "\n",
    "display(Markdown(\"Any errors that you should go and look at will be in **bold**. If a calculation fails this sanity check it will not be marked in the final section.\"))\n",
    "\n",
    "(SanScore, runcheck) = SanityFiles(df, runlist, anslist)\n",
    "\n",
    "display(Markdown(\"## Looking at the Initial Starting Structure for Each Optimisation\"))\n",
    "\n",
    "display(Markdown(\"In this section I run some basic checks to make sure your starting structure is chemically sensible. The Sanity check has already checked that you have the right number and type of atoms so in this section I compare the starting structure to some other structures from databases or other calculations to make sure the bond lengths/angles make chemical sense.\")) \n",
    "\n",
    "display(Markdown(\"These checks may not be perfect but they try and imitate what you should be doing when setting up a calculation. Make sure your starting structure is chemically sensible, if you start from a poor structure the optimisation is going to **a)** struggle to find an mimium energy structure and **b)** if it does it will have taken long to find one, wasting both your time and the computational resources\"))\n",
    "                 \n",
    "display(Markdown(\"It then checks to make sure the starting structure has the correct symmetry. This is really important, if a molecule has symmetry the calculation will take this into account and this can significantly speed up the calculation, if going on to use this structure for vibrational spectroscopy calculations, the symmetry also determines this number and IR/Raman activity of the vibrations you calculate.\"))\n",
    "\n",
    "display(Markdown(\"Any errors will be in **bold**.\"))\n",
    "\n",
    "InitialScore = InitialProcess(df, runlist)\n",
    "\n",
    "display(Markdown(\"## Checking your Optimised Structures\"))\n",
    "display(Markdown(\"In this section you will marked on the optimised structures you have obtained. Here your submitted structure is compared to a calculation already performed using the same settings. This is looking at the energy, bond lengths and symmerty of your final structure, along with the overall shape.\"))\n",
    "\n",
    "display(Markdown(\"Any calculations that failed the Sanity check above will not be marked. Any Errors will be displayed in **bold** below.\"))\n",
    "\n",
    "FinalScore = FinalProcess(df, runlist, anslist, runcheck)\n",
    "\n",
    "\n",
    "display(Markdown(\"## Summary of Scores\"))\n",
    "\n",
    "display(Markdown(\"Your Sanity Score = {SanScore} out of 22\".format(SanScore=SanScore)))\n",
    "\n",
    "display(Markdown(\"Your Score for Your Initial Structures = {InitialScore} out of 12\".format(InitialScore=InitialScore)))\n",
    "\n",
    "display(Markdown(\"Your Score for Your Optimised Structures = {FinalScore} out of 120\".format(FinalScore=FinalScore)))\n",
    "\n",
    "\n",
    "\n",
    "display(Markdown(\"## Extra Guidance and Advice\"))\n",
    "\n",
    "display(Markdown(\"Finally some additional checks have been run on your calculations to check to see if you could improve how you setup your calculations to speed them up and save you time - particularly when performing calculations on larger molecules in later units.\"))\n",
    "\n",
    "display(Markdown(\"If you calculations pass all the checks there will be not further guidance included\"))\n",
    "\n",
    "ExtraProcess(df, runlist)"
   ]
  }
 ],
 "metadata": {
  "celltoolbar": "Tags",
  "kernelspec": {
   "display_name": "Python 3",
   "language": "python",
   "name": "python3"
  },
  "language_info": {
   "codemirror_mode": {
    "name": "ipython",
    "version": 3
   },
   "file_extension": ".py",
   "mimetype": "text/x-python",
   "name": "python",
   "nbconvert_exporter": "python",
   "pygments_lexer": "ipython3",
   "version": "3.9.1"
  }
 },
 "nbformat": 4,
 "nbformat_minor": 5
}
